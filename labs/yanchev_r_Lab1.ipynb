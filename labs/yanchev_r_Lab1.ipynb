{
  "nbformat": 4,
  "nbformat_minor": 0,
  "metadata": {
    "colab": {
      "name": "yanchev.r-Lab1.ipynb",
      "provenance": [],
      "authorship_tag": "ABX9TyPbIuIVSbbVuKBraf1xKsqY",
      "include_colab_link": true
    },
    "kernelspec": {
      "name": "python3",
      "display_name": "Python 3"
    }
  },
  "cells": [
    {
      "cell_type": "markdown",
      "metadata": {
        "id": "view-in-github",
        "colab_type": "text"
      },
      "source": [
        "<a href=\"https://colab.research.google.com/github/TheGrayWolf81/IST210/blob/master/labs/yanchev_r_Lab1.ipynb\" target=\"_parent\"><img src=\"https://colab.research.google.com/assets/colab-badge.svg\" alt=\"Open In Colab\"/></a>"
      ]
    },
    {
      "cell_type": "markdown",
      "metadata": {
        "colab_type": "text",
        "id": "74tTKF3eHbgd"
      },
      "source": [
        "###Richard Yanchev\n",
        "###IST Interests: Linux, networking, coding\n",
        "###Cyber Security Analytics & Operations\n",
        "![alt text](https://raw.githubusercontent.com/TheGrayWolf81/IST210/master/introduction/vector_profile.jpg)"
      ]
    }
  ]
}